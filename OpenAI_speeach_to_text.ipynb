{
  "nbformat": 4,
  "nbformat_minor": 0,
  "metadata": {
    "colab": {
      "provenance": [],
      "authorship_tag": "ABX9TyO3Kn/xoi34Er0g84vuDrU6",
      "include_colab_link": true
    },
    "kernelspec": {
      "name": "python3",
      "display_name": "Python 3"
    },
    "language_info": {
      "name": "python"
    }
  },
  "cells": [
    {
      "cell_type": "markdown",
      "metadata": {
        "id": "view-in-github",
        "colab_type": "text"
      },
      "source": [
        "<a href=\"https://colab.research.google.com/github/mondragonsi/speech_to_text/blob/main/OpenAI_speeach_to_text.ipynb\" target=\"_parent\"><img src=\"https://colab.research.google.com/assets/colab-badge.svg\" alt=\"Open In Colab\"/></a>"
      ]
    },
    {
      "cell_type": "markdown",
      "source": [
        "This simple code considers that you have an OpenAi API TOKEN\n"
      ],
      "metadata": {
        "id": "Sl6rRQ2HD7r3"
      }
    },
    {
      "cell_type": "code",
      "source": [
        "!pip install openai"
      ],
      "metadata": {
        "id": "CFzMk94VH3Sl"
      },
      "execution_count": null,
      "outputs": []
    },
    {
      "cell_type": "code",
      "source": [
        "\n",
        "from openai import OpenAI"
      ],
      "metadata": {
        "id": "evObpXStHJw_"
      },
      "execution_count": 7,
      "outputs": []
    },
    {
      "cell_type": "code",
      "source": [
        "\n",
        "# Get the API key from the environment variable\n",
        "\n",
        "api_key = \"insira_tua_openAI_api_key_aqui_:)\"\n",
        "\n",
        "# Initialize the OpenAI client\n",
        "client = OpenAI(api_key=api_key)"
      ],
      "metadata": {
        "id": "bcbw9McZHOTF"
      },
      "execution_count": 9,
      "outputs": []
    },
    {
      "cell_type": "markdown",
      "source": [
        "Nao esqueca de colocar o arquivo de audio na pasta abaixo (sample_data)"
      ],
      "metadata": {
        "id": "sspXplinIeZZ"
      }
    },
    {
      "cell_type": "code",
      "source": [
        "audio_file= open(\"/content/sample_data/Test speech to text.m4a\", \"rb\")\n",
        "transcript = client.audio.transcriptions.create(\n",
        "  model=\"whisper-1\",\n",
        "  file=audio_file\n",
        ")"
      ],
      "metadata": {
        "id": "Xwmx7mDWHQ8Y"
      },
      "execution_count": 10,
      "outputs": []
    },
    {
      "cell_type": "code",
      "source": [
        "#show file context text\n",
        "\n",
        "print(transcript.text)"
      ],
      "metadata": {
        "colab": {
          "base_uri": "https://localhost:8080/"
        },
        "id": "bpeZpiJYHYem",
        "outputId": "539ba967-d5e6-477a-876b-5c156d94f1e0"
      },
      "execution_count": 11,
      "outputs": [
        {
          "output_type": "stream",
          "name": "stdout",
          "text": [
            "E esses problemas são aqueles que a máquina aprende. Por que aprendizado de máquina? Se a gente for falar matematicamente, é porque a máquina aprende os pesos daquela equação paramétrica que ele vai atualizando. Mas é bem isso mesmo. O aprendizado de máquina, o Machine Learning, eu tenho dados históricos. Esses dados históricos, em grande quantidade, com cada coluna. Imagina uma coluna de Excel. Eu tenho uma linha para o paciente zero. E eu tenho aprendizado.\n"
          ]
        }
      ]
    }
  ]
}